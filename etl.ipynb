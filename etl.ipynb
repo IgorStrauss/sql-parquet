{
 "cells": [
  {
   "cell_type": "markdown",
   "metadata": {},
   "source": [
    "Arquivo para importarmos as tabelas criadas e já populadas"
   ]
  },
  {
   "cell_type": "markdown",
   "metadata": {},
   "source": [
    "Conexão com banco de dados SQL Server\n",
    "\n",
    "Validar consumo das tabelas no SQL Server\n",
    "\n",
    "Salvar dados no formato Parquet - Compressão default\n",
    "\n",
    "Validar consumo das tabelas no arquivo Parquet"
   ]
  },
  {
   "cell_type": "code",
   "execution_count": 10,
   "metadata": {},
   "outputs": [],
   "source": [
    "import os\n",
    "import pandas as pd\n",
    "from sqlalchemy import create_engine"
   ]
  },
  {
   "cell_type": "code",
   "execution_count": 5,
   "metadata": {},
   "outputs": [],
   "source": [
    "# String de conexão\n",
    "server = \"LENOVOI5\"\n",
    "database = \"Dev\"\n",
    "username = \"MarquesIgor\"\n",
    "password = \"812610\"\n",
    "\n",
    "# Criando a string de conexão com SQLAlchemy\n",
    "conn_str = f\"mssql+pyodbc://{username}:{password}@{server}/{database}?driver=ODBC+Driver+17+for+SQL+Server\"\n",
    "\n",
    "engine = create_engine(conn_str)"
   ]
  },
  {
   "cell_type": "markdown",
   "metadata": {},
   "source": [
    "## Consulta tabela Pessoa"
   ]
  },
  {
   "cell_type": "code",
   "execution_count": 6,
   "metadata": {},
   "outputs": [
    {
     "name": "stdout",
     "output_type": "stream",
     "text": [
      "<class 'pandas.core.frame.DataFrame'>\n",
      "RangeIndex: 600 entries, 0 to 599\n",
      "Data columns (total 4 columns):\n",
      " #   Column     Non-Null Count  Dtype \n",
      "---  ------     --------------  ----- \n",
      " 0   Id_Pessoa  600 non-null    int64 \n",
      " 1   CPF        600 non-null    object\n",
      " 2   Nome       600 non-null    object\n",
      " 3   Sobrenome  600 non-null    object\n",
      "dtypes: int64(1), object(3)\n",
      "memory usage: 18.9+ KB\n"
     ]
    }
   ],
   "source": [
    "# Definir a consulta SQL\n",
    "query_pessoa = \"\"\"\n",
    "    SELECT * FROM Parquet.Pessoa\n",
    "\"\"\"\n",
    "\n",
    "# Carregar os dados diretamente para um DataFrame usando pandas\n",
    "df_pessoa = pd.read_sql(query_pessoa, engine)\n",
    "\n",
    "# Exibir os dados\n",
    "df_pessoa.info()"
   ]
  },
  {
   "cell_type": "markdown",
   "metadata": {},
   "source": [
    "## Consulta tabela TelefonePessoa"
   ]
  },
  {
   "cell_type": "code",
   "execution_count": 17,
   "metadata": {},
   "outputs": [
    {
     "name": "stdout",
     "output_type": "stream",
     "text": [
      "<class 'pandas.core.frame.DataFrame'>\n",
      "RangeIndex: 400 entries, 0 to 399\n",
      "Data columns (total 5 columns):\n",
      " #   Column             Non-Null Count  Dtype \n",
      "---  ------             --------------  ----- \n",
      " 0   Id_TelefonePessoa  400 non-null    int64 \n",
      " 1   Id_Pessoa          400 non-null    int64 \n",
      " 2   DDD                400 non-null    object\n",
      " 3   Numero             400 non-null    object\n",
      " 4   Is_Active          400 non-null    bool  \n",
      "dtypes: bool(1), int64(2), object(2)\n",
      "memory usage: 13.0+ KB\n"
     ]
    }
   ],
   "source": [
    "# Definir a consulta SQL\n",
    "query_telefone_pessoa = \"\"\"\n",
    "    SELECT * FROM Parquet.TelefonePessoa\n",
    "\"\"\"\n",
    "\n",
    "# Carregar os dados diretamente para um DataFrame usando pandas\n",
    "query_telefone_pessoa = pd.read_sql(query_telefone_pessoa, engine)\n",
    "\n",
    "# Exibir os dados\n",
    "query_telefone_pessoa.info()"
   ]
  },
  {
   "cell_type": "markdown",
   "metadata": {},
   "source": [
    "## Consulta EnderecoPessoa"
   ]
  },
  {
   "cell_type": "code",
   "execution_count": 33,
   "metadata": {},
   "outputs": [
    {
     "name": "stdout",
     "output_type": "stream",
     "text": [
      "<class 'pandas.core.frame.DataFrame'>\n",
      "RangeIndex: 600 entries, 0 to 599\n",
      "Data columns (total 6 columns):\n",
      " #   Column             Non-Null Count  Dtype \n",
      "---  ------             --------------  ----- \n",
      " 0   Id_EnderecoPessoa  600 non-null    int64 \n",
      " 1   Id_Pessoa          600 non-null    int64 \n",
      " 2   Logradouro         600 non-null    object\n",
      " 3   Complemento        600 non-null    object\n",
      " 4   Numero             600 non-null    object\n",
      " 5   Is_Active          600 non-null    bool  \n",
      "dtypes: bool(1), int64(2), object(3)\n",
      "memory usage: 24.2+ KB\n"
     ]
    }
   ],
   "source": [
    "# Definir a consulta SQL\n",
    "query_endereco_pessoa = \"\"\"\n",
    "    SELECT * FROM Parquet.EnderecoPessoa\n",
    "\"\"\"\n",
    "\n",
    "# Carregar os dados diretamente para um DataFrame usando pandas\n",
    "query_endereco_pessoa = pd.read_sql(query_endereco_pessoa, engine)\n",
    "\n",
    "# Exibir os dados\n",
    "query_endereco_pessoa.info()"
   ]
  },
  {
   "cell_type": "markdown",
   "metadata": {},
   "source": [
    "## Consulta Veiculos"
   ]
  },
  {
   "cell_type": "code",
   "execution_count": 19,
   "metadata": {},
   "outputs": [
    {
     "name": "stdout",
     "output_type": "stream",
     "text": [
      "<class 'pandas.core.frame.DataFrame'>\n",
      "RangeIndex: 600 entries, 0 to 599\n",
      "Data columns (total 7 columns):\n",
      " #   Column      Non-Null Count  Dtype \n",
      "---  ------      --------------  ----- \n",
      " 0   Id_Veiculo  600 non-null    int64 \n",
      " 1   Chassi      600 non-null    object\n",
      " 2   Marca       600 non-null    object\n",
      " 3   Modelo      600 non-null    object\n",
      " 4   Cor         600 non-null    object\n",
      " 5   Ano         600 non-null    int64 \n",
      " 6   Ano_Modelo  600 non-null    int64 \n",
      "dtypes: int64(3), object(4)\n",
      "memory usage: 32.9+ KB\n"
     ]
    }
   ],
   "source": [
    "# Definir a consulta SQL\n",
    "query_veiculos = \"\"\"\n",
    "    SELECT * FROM Parquet.Veiculos\n",
    "\"\"\"\n",
    "\n",
    "# Carregar os dados diretamente para um DataFrame usando pandas\n",
    "query_veiculos = pd.read_sql(query_veiculos, engine)\n",
    "\n",
    "# Exibir os dados\n",
    "query_veiculos.info()"
   ]
  },
  {
   "cell_type": "markdown",
   "metadata": {},
   "source": [
    "## Consulta ProprietarioVeiculo"
   ]
  },
  {
   "cell_type": "code",
   "execution_count": 20,
   "metadata": {},
   "outputs": [
    {
     "name": "stdout",
     "output_type": "stream",
     "text": [
      "<class 'pandas.core.frame.DataFrame'>\n",
      "RangeIndex: 400 entries, 0 to 399\n",
      "Data columns (total 4 columns):\n",
      " #   Column           Non-Null Count  Dtype\n",
      "---  ------           --------------  -----\n",
      " 0   Id_Proprietario  400 non-null    int64\n",
      " 1   Id_Pessoa        400 non-null    int64\n",
      " 2   Id_Veiculo       400 non-null    int64\n",
      " 3   Is_Active        400 non-null    bool \n",
      "dtypes: bool(1), int64(3)\n",
      "memory usage: 9.9 KB\n"
     ]
    }
   ],
   "source": [
    "# Definir a consulta SQL\n",
    "query_proprietario_veiculo = \"\"\"\n",
    "    SELECT * FROM Parquet.ProprietarioVeiculo\n",
    "\"\"\"\n",
    "\n",
    "# Carregar os dados diretamente para um DataFrame usando pandas\n",
    "query_proprietario_veiculo = pd.read_sql(query_proprietario_veiculo, engine)\n",
    "\n",
    "# Exibir os dados\n",
    "query_proprietario_veiculo.info()"
   ]
  },
  {
   "cell_type": "markdown",
   "metadata": {},
   "source": [
    "Analise sobre armazenamento e espaço reservado no Banco"
   ]
  },
  {
   "cell_type": "code",
   "execution_count": 23,
   "metadata": {},
   "outputs": [
    {
     "name": "stdout",
     "output_type": "stream",
     "text": [
      "     name                  rows reserved   data index_size unused\n",
      "0  Pessoa  600                     72 KB  24 KB      16 KB  32 KB\n"
     ]
    }
   ],
   "source": [
    "# Definir a consulta SQL para obter o consumo de espaço\n",
    "query_pessoa_spaceused = \"EXEC sp_spaceused 'Parquet.Pessoa'\"\n",
    "\n",
    "# Executar a consulta e carregar o resultado no pandas\n",
    "df_espaco = pd.read_sql(query_pessoa_spaceused, engine)\n",
    "\n",
    "# Mostrar as informações sobre o consumo de espaço\n",
    "print(df_espaco)"
   ]
  },
  {
   "cell_type": "code",
   "execution_count": 24,
   "metadata": {},
   "outputs": [
    {
     "name": "stdout",
     "output_type": "stream",
     "text": [
      "             name                  rows reserved   data index_size unused\n",
      "0  EnderecoPessoa  600                     72 KB  32 KB      16 KB  24 KB\n"
     ]
    }
   ],
   "source": [
    "query_endereco_pessoa_spaceused = \"EXEC sp_spaceused 'Parquet.EnderecoPessoa'\"\n",
    "\n",
    "# Executar a consulta e carregar o resultado no pandas\n",
    "df_espaco = pd.read_sql(query_endereco_pessoa_spaceused, engine)\n",
    "\n",
    "# Mostrar as informações sobre o consumo de espaço\n",
    "print(df_espaco)"
   ]
  },
  {
   "cell_type": "code",
   "execution_count": 25,
   "metadata": {},
   "outputs": [
    {
     "name": "stdout",
     "output_type": "stream",
     "text": [
      "             name                  rows reserved   data index_size unused\n",
      "0  TelefonePessoa  400                     72 KB  16 KB      16 KB  40 KB\n"
     ]
    }
   ],
   "source": [
    "query_telefone_pessoa_spaceused = \"EXEC sp_spaceused 'Parquet.TelefonePessoa'\"\n",
    "\n",
    "# Executar a consulta e carregar o resultado no pandas\n",
    "df_espaco = pd.read_sql(query_telefone_pessoa_spaceused, engine)\n",
    "\n",
    "# Mostrar as informações sobre o consumo de espaço\n",
    "print(df_espaco)"
   ]
  },
  {
   "cell_type": "code",
   "execution_count": 26,
   "metadata": {},
   "outputs": [
    {
     "name": "stdout",
     "output_type": "stream",
     "text": [
      "       name                  rows reserved   data index_size unused\n",
      "0  Veiculos  600                     72 KB  48 KB      16 KB   8 KB\n"
     ]
    }
   ],
   "source": [
    "query_veiculos_spaceused = \"EXEC sp_spaceused 'Parquet.Veiculos'\"\n",
    "\n",
    "# Executar a consulta e carregar o resultado no pandas\n",
    "df_espaco = pd.read_sql(query_veiculos_spaceused, engine)\n",
    "\n",
    "# Mostrar as informações sobre o consumo de espaço\n",
    "print(df_espaco)"
   ]
  },
  {
   "cell_type": "code",
   "execution_count": 27,
   "metadata": {},
   "outputs": [
    {
     "name": "stdout",
     "output_type": "stream",
     "text": [
      "                  name                  rows reserved   data index_size unused\n",
      "0  ProprietarioVeiculo  400                     72 KB  16 KB      16 KB  40 KB\n"
     ]
    }
   ],
   "source": [
    "query_proprietario_veiculo_spaceused = (\n",
    "    \"EXEC sp_spaceused 'Parquet.ProprietarioVeiculo'\"\n",
    ")\n",
    "\n",
    "# Executar a consulta e carregar o resultado no pandas\n",
    "df_espaco = pd.read_sql(query_proprietario_veiculo_spaceused, engine)\n",
    "\n",
    "# Mostrar as informações sobre o consumo de espaço\n",
    "print(df_espaco)"
   ]
  },
  {
   "cell_type": "markdown",
   "metadata": {},
   "source": [
    "### Gerando arquivos .Parquet a partir de consultas SQL"
   ]
  },
  {
   "cell_type": "code",
   "execution_count": 36,
   "metadata": {},
   "outputs": [
    {
     "name": "stdout",
     "output_type": "stream",
     "text": [
      "Tabela pessoa salva como pessoa.parquet\n",
      "Tabela endereco_pessoa salva como endereco_pessoa.parquet\n",
      "Tabela telefone_pessoa salva como telefone_pessoa.parquet\n",
      "Tabela veiculos salva como veiculos.parquet\n",
      "Tabela proprietario_veiculo salva como proprietario_veiculo.parquet\n"
     ]
    }
   ],
   "source": [
    "# Função para carregar dados e salvar em Parquet\n",
    "def salvar_em_parquet(query, nome_arquivo):\n",
    "    df = pd.read_sql(query, engine)  # Carrega os dados da consulta SQL\n",
    "    df.to_parquet(\n",
    "        f\"{nome_arquivo}.parquet\", engine=\"pyarrow\", index=False\n",
    "    )  # Salva o DataFrame em formato Parquet\n",
    "    print(f\"Tabela {nome_arquivo} salva como {nome_arquivo}.parquet\")\n",
    "\n",
    "\n",
    "# Consultas SQL\n",
    "query_pessoa = \"SELECT * FROM Parquet.Pessoa\"\n",
    "query_endereco_pessoa = \"SELECT * FROM Parquet.EnderecoPessoa\"\n",
    "query_telefone_pessoa = \"SELECT * FROM Parquet.TelefonePessoa\"\n",
    "query_veiculos = \"SELECT * FROM Parquet.Veiculos\"\n",
    "query_proprietario_veiculo = \"SELECT * FROM Parquet.ProprietarioVeiculo\"\n",
    "\n",
    "# Executando as consultas e salvando os dados em arquivos Parquet\n",
    "# salvar_em_parquet(query_pessoa, \"pessoa\")\n",
    "# salvar_em_parquet(query_endereco_pessoa, \"endereco_pessoa\")\n",
    "# salvar_em_parquet(query_telefone_pessoa, \"telefone_pessoa\")\n",
    "# salvar_em_parquet(query_veiculos, \"veiculos\")\n",
    "# salvar_em_parquet(query_proprietario_veiculo, \"proprietario_veiculo\")"
   ]
  },
  {
   "cell_type": "markdown",
   "metadata": {},
   "source": [
    "### Gerando arquivo .Parquet particionado por Pessoa.CPF e definindo caminho para salvar arquivo"
   ]
  },
  {
   "cell_type": "code",
   "execution_count": 9,
   "metadata": {},
   "outputs": [
    {
     "name": "stdout",
     "output_type": "stream",
     "text": [
      "Tabela pessoa_cpf_1 salva como Data/pessoa_cpf_1.parquet\n"
     ]
    }
   ],
   "source": [
    "# Individual\n",
    "def salvar_em_parquet(query, nome_arquivo):\n",
    "    df = pd.read_sql(query, engine)  # Carrega os dados da consulta SQL\n",
    "    # Define o caminho do arquivo no diretório Data/\n",
    "    caminho_arquivo = f\"Data/{nome_arquivo}.parquet\"\n",
    "    df.to_parquet(caminho_arquivo, engine=\"pyarrow\", index=False)  # Salva o DataFrame em formato Parquet\n",
    "    print(f\"Tabela {nome_arquivo} salva como {caminho_arquivo}\")\n",
    "\n",
    "# Consultas SQL\n",
    "query_pessoa = \"SELECT * FROM Parquet.Pessoa WHERE RIGHT(CPF,1) = '1'\"\n",
    "\n",
    "# Executando as consultas e salvando os dados em arquivos Parquet\n",
    "salvar_em_parquet(query_pessoa, \"pessoa_cpf_1\")"
   ]
  },
  {
   "cell_type": "code",
   "execution_count": 11,
   "metadata": {},
   "outputs": [
    {
     "name": "stdout",
     "output_type": "stream",
     "text": [
      "Tabela pessoa_cpf_0 salva como data/pessoa_cpf_0.parquet\n",
      "Tabela pessoa_cpf_1 salva como data/pessoa_cpf_1.parquet\n",
      "Tabela pessoa_cpf_2 salva como data/pessoa_cpf_2.parquet\n",
      "Tabela pessoa_cpf_3 salva como data/pessoa_cpf_3.parquet\n",
      "Tabela pessoa_cpf_4 salva como data/pessoa_cpf_4.parquet\n",
      "Tabela pessoa_cpf_5 salva como data/pessoa_cpf_5.parquet\n",
      "Tabela pessoa_cpf_6 salva como data/pessoa_cpf_6.parquet\n",
      "Tabela pessoa_cpf_7 salva como data/pessoa_cpf_7.parquet\n",
      "Tabela pessoa_cpf_8 salva como data/pessoa_cpf_8.parquet\n",
      "Tabela pessoa_cpf_9 salva como data/pessoa_cpf_9.parquet\n"
     ]
    }
   ],
   "source": [
    "#Em loop\n",
    "def salvar_em_parquet(query, nome_arquivo):\n",
    "    df = pd.read_sql(query, engine)  # Carrega os dados da consulta SQL\n",
    "    # Verifica se o diretório 'data' existe, se não, cria\n",
    "    if not os.path.exists('data'):\n",
    "        os.makedirs('data')\n",
    "    \n",
    "    # Define o caminho do arquivo no diretório data/\n",
    "    caminho_arquivo = f\"data/{nome_arquivo}.parquet\"\n",
    "    df.to_parquet(caminho_arquivo, engine=\"pyarrow\", index=False)\n",
    "    print(f\"Tabela {nome_arquivo} salva como {caminho_arquivo}\")\n",
    "\n",
    "# Consultas SQL para diferentes últimos dígitos do CPF\n",
    "for i in range(10):\n",
    "    # Monta a consulta com o último dígito do CPF\n",
    "    query = f\"SELECT * FROM Parquet.Pessoa WHERE RIGHT(CPF,1) = '{i}'\"\n",
    "    nome_arquivo = f\"pessoa_cpf_{i}\"  # Nome do arquivo baseado no dígito do CPF\n",
    "    salvar_em_parquet(query, nome_arquivo) "
   ]
  },
  {
   "cell_type": "markdown",
   "metadata": {},
   "source": [
    "## Comparativo de recursos utilizados com arquivo SQL X Parquet"
   ]
  },
  {
   "cell_type": "code",
   "execution_count": 29,
   "metadata": {},
   "outputs": [
    {
     "name": "stdout",
     "output_type": "stream",
     "text": [
      "<class 'pandas.core.frame.DataFrame'>\n",
      "RangeIndex: 600 entries, 0 to 599\n",
      "Data columns (total 4 columns):\n",
      " #   Column     Non-Null Count  Dtype \n",
      "---  ------     --------------  ----- \n",
      " 0   Id_Pessoa  600 non-null    int64 \n",
      " 1   CPF        600 non-null    object\n",
      " 2   Nome       600 non-null    object\n",
      " 3   Sobrenome  600 non-null    object\n",
      "dtypes: int64(1), object(3)\n",
      "memory usage: 18.9+ KB\n"
     ]
    }
   ],
   "source": [
    "query_pessoa_parquet = pd.read_parquet(\"pessoa.parquet\")\n",
    "query_pessoa_parquet.info()"
   ]
  },
  {
   "cell_type": "code",
   "execution_count": 31,
   "metadata": {},
   "outputs": [
    {
     "name": "stdout",
     "output_type": "stream",
     "text": [
      "     name                  rows reserved   data index_size unused\n",
      "0  Pessoa  600                     72 KB  24 KB      16 KB  32 KB\n"
     ]
    }
   ],
   "source": [
    "query_pessoa_spaceused = \"EXEC sp_spaceused 'Parquet.Pessoa'\"\n",
    "\n",
    "# Executar a consulta e carregar o resultado no pandas\n",
    "df_espaco = pd.read_sql(query_pessoa_spaceused, engine)\n",
    "\n",
    "# Mostrar as informações sobre o consumo de espaço\n",
    "print(df_espaco)"
   ]
  }
 ],
 "metadata": {
  "kernelspec": {
   "display_name": "venv",
   "language": "python",
   "name": "python3"
  },
  "language_info": {
   "codemirror_mode": {
    "name": "ipython",
    "version": 3
   },
   "file_extension": ".py",
   "mimetype": "text/x-python",
   "name": "python",
   "nbconvert_exporter": "python",
   "pygments_lexer": "ipython3",
   "version": "3.11.7"
  }
 },
 "nbformat": 4,
 "nbformat_minor": 2
}
